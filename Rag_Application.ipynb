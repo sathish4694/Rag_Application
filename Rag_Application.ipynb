{
  "nbformat": 4,
  "nbformat_minor": 0,
  "metadata": {
    "colab": {
      "provenance": []
    },
    "kernelspec": {
      "name": "python3",
      "display_name": "Python 3"
    },
    "language_info": {
      "name": "python"
    }
  },
  "cells": [
    {
      "cell_type": "markdown",
      "source": [
        "## Overview\n",
        "\n",
        "This project demonstrates how to use the Gemini API to create embeddings,will use the Python client library to build a word embedding that allows you to compare search strings, or questions, to document contents.\n",
        "\n",
        "In this project, will build a rag application"
      ],
      "metadata": {
        "id": "-eXvUBhF1y3n"
      }
    },
    {
      "cell_type": "code",
      "source": [
        "!pip install -U -q google-generativeai"
      ],
      "metadata": {
        "id": "lkFqPpLj18rE"
      },
      "execution_count": 3,
      "outputs": []
    },
    {
      "cell_type": "code",
      "source": [
        "import textwrap\n",
        "import google.generativeai as GenAi\n",
        "import google.ai.generativelanguage as glm\n",
        "import pandas as pd\n",
        "import numpy as np\n",
        "from google.colab import userdata\n",
        "\n",
        "from IPython.display import Markdown, display"
      ],
      "metadata": {
        "id": "EIw8c3Jf3yvU"
      },
      "execution_count": 4,
      "outputs": []
    },
    {
      "cell_type": "code",
      "source": [
        "GOOGLE_API_KEY=userdata.get('GOOGLE_API_KEY')\n",
        "GenAi.configure(api_key=GOOGLE_API_KEY)"
      ],
      "metadata": {
        "id": "tvyX7NSk4enb"
      },
      "execution_count": 5,
      "outputs": []
    },
    {
      "cell_type": "markdown",
      "source": [
        "# Building an embeddings database\n",
        "\n",
        "Here are 2 sample text to use to build the embeddings database, we will use Gemini API to create embeddings of each of the documents.We pulled data from websites to create the DataFrame dynamically. Using Python, you can use web scraping libraries like BeautifulSoup (from the bs4 library) for extracting data from HTML content. Additionally, APIs provided by websites (if available) can be a more structured and reliable way to fetch data."
      ],
      "metadata": {
        "id": "Mhz6W1Hz-1PX"
      }
    },
    {
      "cell_type": "code",
      "source": [
        "import requests\n",
        "from bs4 import BeautifulSoup\n",
        "import pandas as pd\n",
        "\n",
        "# Function for data cleaning\n",
        "def clean_text(text):\n",
        "    \"\"\"\n",
        "    Cleans input text by removing extra whitespace, newlines, and ensuring UTF-8 encoding.\n",
        "    \"\"\"\n",
        "    return (\n",
        "        text.replace(\"\\n\", \" \")  # Remove newlines\n",
        "        .replace(\"\\r\", \" \")     # Remove carriage returns\n",
        "        .strip()                # Strip leading/trailing spaces\n",
        "        .encode(\"utf-8\", \"ignore\")  # Ignore non-UTF characters\n",
        "        .decode(\"utf-8\")        # Decode back to string\n",
        "    )\n",
        "\n",
        "# URLs to scrape\n",
        "urls = [\n",
        "    \"https://en.wikipedia.org/wiki/History_of_the_automobile\",\n",
        "    \"https://en.wikipedia.org/wiki/Global_warming\"\n",
        "]\n",
        "\n",
        "data = []\n",
        "\n",
        "for url in urls:\n",
        "    try:\n",
        "        # Fetch webpage content\n",
        "        response = requests.get(url)\n",
        "        if response.status_code != 200:\n",
        "            print(f\"Failed to fetch {url} (Status Code: {response.status_code})\")\n",
        "            continue\n",
        "\n",
        "        # Parse HTML content\n",
        "        soup = BeautifulSoup(response.text, 'html.parser')\n",
        "\n",
        "        # Extract title (fallback to \"Title Not Found\" if missing)\n",
        "        title_tag = soup.find('h1')  # Most articles have <h1> for titles\n",
        "        title = clean_text(title_tag.text) if title_tag else \"Title Not Found\"\n",
        "\n",
        "        # Extract content (combine the first 3 paragraphs)\n",
        "        paragraphs = soup.find_all('p')  # Get all <p> tags\n",
        "        content = clean_text(\" \".join([p.text for p in paragraphs[:3]])) if paragraphs else \"Content Not Found\"\n",
        "\n",
        "        # Add extracted data to the list\n",
        "        data.append({\"Title\": title, \"Content\": content})\n",
        "\n",
        "    except Exception as e:\n",
        "        print(f\"Error scraping {url}: {e}\")\n",
        "\n",
        "# Create a DataFrame\n",
        "df = pd.DataFrame(data)\n",
        "\n",
        "# Perform additional cleaning\n",
        "df.dropna(inplace=True)  # Remove rows with missing values\n",
        "df.reset_index(drop=True, inplace=True)  # Reset index for a clean DataFrame\n",
        "\n",
        "# Display the DataFrame\n",
        "print(df)\n"
      ],
      "metadata": {
        "colab": {
          "base_uri": "https://localhost:8080/"
        },
        "id": "E0kIdm77u-qi",
        "outputId": "3b787d65-cb52-4d61-a516-3030d369494d"
      },
      "execution_count": 15,
      "outputs": [
        {
          "output_type": "stream",
          "name": "stdout",
          "text": [
            "                       Title  \\\n",
            "0  History of the automobile   \n",
            "1             Climate change   \n",
            "\n",
            "                                             Content  \n",
            "0  Crude ideas and designs of automobiles can be ...  \n",
            "1  Present-day climate change includes both globa...  \n"
          ]
        }
      ]
    },
    {
      "cell_type": "markdown",
      "source": [
        "Now we will create the embeddings for each of the text and will add it to the data frame."
      ],
      "metadata": {
        "id": "JuPB41FEAMy-"
      }
    },
    {
      "cell_type": "code",
      "source": [
        "def embed_fn(title, Content):\n",
        "  return GenAi.embed_content(model=\"models/embedding-001\", content=title, task_type='retrieval_document', title=title)[\"embedding\"]\n",
        "df['Embedding'] = df.apply(lambda x: embed_fn(x['Title'], x['Content']), axis=1)\n",
        "df\n"
      ],
      "metadata": {
        "colab": {
          "base_uri": "https://localhost:8080/",
          "height": 125
        },
        "id": "IxGqhP4BAUt6",
        "outputId": "a586abbf-a530-445d-d78f-2bbff6b99b61"
      },
      "execution_count": 17,
      "outputs": [
        {
          "output_type": "execute_result",
          "data": {
            "text/plain": [
              "                       Title  \\\n",
              "0  History of the automobile   \n",
              "1             Climate change   \n",
              "\n",
              "                                             Content  \\\n",
              "0  Crude ideas and designs of automobiles can be ...   \n",
              "1  Present-day climate change includes both globa...   \n",
              "\n",
              "                                           Embedding  \n",
              "0  [0.02445126, -0.023332464, -0.067578495, -0.01...  \n",
              "1  [-0.014170468, -0.034987755, -0.06454118, 0.01...  "
            ],
            "text/html": [
              "\n",
              "  <div id=\"df-f44962a2-5527-442f-a002-6a27be03f571\" class=\"colab-df-container\">\n",
              "    <div>\n",
              "<style scoped>\n",
              "    .dataframe tbody tr th:only-of-type {\n",
              "        vertical-align: middle;\n",
              "    }\n",
              "\n",
              "    .dataframe tbody tr th {\n",
              "        vertical-align: top;\n",
              "    }\n",
              "\n",
              "    .dataframe thead th {\n",
              "        text-align: right;\n",
              "    }\n",
              "</style>\n",
              "<table border=\"1\" class=\"dataframe\">\n",
              "  <thead>\n",
              "    <tr style=\"text-align: right;\">\n",
              "      <th></th>\n",
              "      <th>Title</th>\n",
              "      <th>Content</th>\n",
              "      <th>Embedding</th>\n",
              "    </tr>\n",
              "  </thead>\n",
              "  <tbody>\n",
              "    <tr>\n",
              "      <th>0</th>\n",
              "      <td>History of the automobile</td>\n",
              "      <td>Crude ideas and designs of automobiles can be ...</td>\n",
              "      <td>[0.02445126, -0.023332464, -0.067578495, -0.01...</td>\n",
              "    </tr>\n",
              "    <tr>\n",
              "      <th>1</th>\n",
              "      <td>Climate change</td>\n",
              "      <td>Present-day climate change includes both globa...</td>\n",
              "      <td>[-0.014170468, -0.034987755, -0.06454118, 0.01...</td>\n",
              "    </tr>\n",
              "  </tbody>\n",
              "</table>\n",
              "</div>\n",
              "    <div class=\"colab-df-buttons\">\n",
              "\n",
              "  <div class=\"colab-df-container\">\n",
              "    <button class=\"colab-df-convert\" onclick=\"convertToInteractive('df-f44962a2-5527-442f-a002-6a27be03f571')\"\n",
              "            title=\"Convert this dataframe to an interactive table.\"\n",
              "            style=\"display:none;\">\n",
              "\n",
              "  <svg xmlns=\"http://www.w3.org/2000/svg\" height=\"24px\" viewBox=\"0 -960 960 960\">\n",
              "    <path d=\"M120-120v-720h720v720H120Zm60-500h600v-160H180v160Zm220 220h160v-160H400v160Zm0 220h160v-160H400v160ZM180-400h160v-160H180v160Zm440 0h160v-160H620v160ZM180-180h160v-160H180v160Zm440 0h160v-160H620v160Z\"/>\n",
              "  </svg>\n",
              "    </button>\n",
              "\n",
              "  <style>\n",
              "    .colab-df-container {\n",
              "      display:flex;\n",
              "      gap: 12px;\n",
              "    }\n",
              "\n",
              "    .colab-df-convert {\n",
              "      background-color: #E8F0FE;\n",
              "      border: none;\n",
              "      border-radius: 50%;\n",
              "      cursor: pointer;\n",
              "      display: none;\n",
              "      fill: #1967D2;\n",
              "      height: 32px;\n",
              "      padding: 0 0 0 0;\n",
              "      width: 32px;\n",
              "    }\n",
              "\n",
              "    .colab-df-convert:hover {\n",
              "      background-color: #E2EBFA;\n",
              "      box-shadow: 0px 1px 2px rgba(60, 64, 67, 0.3), 0px 1px 3px 1px rgba(60, 64, 67, 0.15);\n",
              "      fill: #174EA6;\n",
              "    }\n",
              "\n",
              "    .colab-df-buttons div {\n",
              "      margin-bottom: 4px;\n",
              "    }\n",
              "\n",
              "    [theme=dark] .colab-df-convert {\n",
              "      background-color: #3B4455;\n",
              "      fill: #D2E3FC;\n",
              "    }\n",
              "\n",
              "    [theme=dark] .colab-df-convert:hover {\n",
              "      background-color: #434B5C;\n",
              "      box-shadow: 0px 1px 3px 1px rgba(0, 0, 0, 0.15);\n",
              "      filter: drop-shadow(0px 1px 2px rgba(0, 0, 0, 0.3));\n",
              "      fill: #FFFFFF;\n",
              "    }\n",
              "  </style>\n",
              "\n",
              "    <script>\n",
              "      const buttonEl =\n",
              "        document.querySelector('#df-f44962a2-5527-442f-a002-6a27be03f571 button.colab-df-convert');\n",
              "      buttonEl.style.display =\n",
              "        google.colab.kernel.accessAllowed ? 'block' : 'none';\n",
              "\n",
              "      async function convertToInteractive(key) {\n",
              "        const element = document.querySelector('#df-f44962a2-5527-442f-a002-6a27be03f571');\n",
              "        const dataTable =\n",
              "          await google.colab.kernel.invokeFunction('convertToInteractive',\n",
              "                                                    [key], {});\n",
              "        if (!dataTable) return;\n",
              "\n",
              "        const docLinkHtml = 'Like what you see? Visit the ' +\n",
              "          '<a target=\"_blank\" href=https://colab.research.google.com/notebooks/data_table.ipynb>data table notebook</a>'\n",
              "          + ' to learn more about interactive tables.';\n",
              "        element.innerHTML = '';\n",
              "        dataTable['output_type'] = 'display_data';\n",
              "        await google.colab.output.renderOutput(dataTable, element);\n",
              "        const docLink = document.createElement('div');\n",
              "        docLink.innerHTML = docLinkHtml;\n",
              "        element.appendChild(docLink);\n",
              "      }\n",
              "    </script>\n",
              "  </div>\n",
              "\n",
              "\n",
              "<div id=\"df-b0121859-a245-43fe-a44e-eb01349b0ce1\">\n",
              "  <button class=\"colab-df-quickchart\" onclick=\"quickchart('df-b0121859-a245-43fe-a44e-eb01349b0ce1')\"\n",
              "            title=\"Suggest charts\"\n",
              "            style=\"display:none;\">\n",
              "\n",
              "<svg xmlns=\"http://www.w3.org/2000/svg\" height=\"24px\"viewBox=\"0 0 24 24\"\n",
              "     width=\"24px\">\n",
              "    <g>\n",
              "        <path d=\"M19 3H5c-1.1 0-2 .9-2 2v14c0 1.1.9 2 2 2h14c1.1 0 2-.9 2-2V5c0-1.1-.9-2-2-2zM9 17H7v-7h2v7zm4 0h-2V7h2v10zm4 0h-2v-4h2v4z\"/>\n",
              "    </g>\n",
              "</svg>\n",
              "  </button>\n",
              "\n",
              "<style>\n",
              "  .colab-df-quickchart {\n",
              "      --bg-color: #E8F0FE;\n",
              "      --fill-color: #1967D2;\n",
              "      --hover-bg-color: #E2EBFA;\n",
              "      --hover-fill-color: #174EA6;\n",
              "      --disabled-fill-color: #AAA;\n",
              "      --disabled-bg-color: #DDD;\n",
              "  }\n",
              "\n",
              "  [theme=dark] .colab-df-quickchart {\n",
              "      --bg-color: #3B4455;\n",
              "      --fill-color: #D2E3FC;\n",
              "      --hover-bg-color: #434B5C;\n",
              "      --hover-fill-color: #FFFFFF;\n",
              "      --disabled-bg-color: #3B4455;\n",
              "      --disabled-fill-color: #666;\n",
              "  }\n",
              "\n",
              "  .colab-df-quickchart {\n",
              "    background-color: var(--bg-color);\n",
              "    border: none;\n",
              "    border-radius: 50%;\n",
              "    cursor: pointer;\n",
              "    display: none;\n",
              "    fill: var(--fill-color);\n",
              "    height: 32px;\n",
              "    padding: 0;\n",
              "    width: 32px;\n",
              "  }\n",
              "\n",
              "  .colab-df-quickchart:hover {\n",
              "    background-color: var(--hover-bg-color);\n",
              "    box-shadow: 0 1px 2px rgba(60, 64, 67, 0.3), 0 1px 3px 1px rgba(60, 64, 67, 0.15);\n",
              "    fill: var(--button-hover-fill-color);\n",
              "  }\n",
              "\n",
              "  .colab-df-quickchart-complete:disabled,\n",
              "  .colab-df-quickchart-complete:disabled:hover {\n",
              "    background-color: var(--disabled-bg-color);\n",
              "    fill: var(--disabled-fill-color);\n",
              "    box-shadow: none;\n",
              "  }\n",
              "\n",
              "  .colab-df-spinner {\n",
              "    border: 2px solid var(--fill-color);\n",
              "    border-color: transparent;\n",
              "    border-bottom-color: var(--fill-color);\n",
              "    animation:\n",
              "      spin 1s steps(1) infinite;\n",
              "  }\n",
              "\n",
              "  @keyframes spin {\n",
              "    0% {\n",
              "      border-color: transparent;\n",
              "      border-bottom-color: var(--fill-color);\n",
              "      border-left-color: var(--fill-color);\n",
              "    }\n",
              "    20% {\n",
              "      border-color: transparent;\n",
              "      border-left-color: var(--fill-color);\n",
              "      border-top-color: var(--fill-color);\n",
              "    }\n",
              "    30% {\n",
              "      border-color: transparent;\n",
              "      border-left-color: var(--fill-color);\n",
              "      border-top-color: var(--fill-color);\n",
              "      border-right-color: var(--fill-color);\n",
              "    }\n",
              "    40% {\n",
              "      border-color: transparent;\n",
              "      border-right-color: var(--fill-color);\n",
              "      border-top-color: var(--fill-color);\n",
              "    }\n",
              "    60% {\n",
              "      border-color: transparent;\n",
              "      border-right-color: var(--fill-color);\n",
              "    }\n",
              "    80% {\n",
              "      border-color: transparent;\n",
              "      border-right-color: var(--fill-color);\n",
              "      border-bottom-color: var(--fill-color);\n",
              "    }\n",
              "    90% {\n",
              "      border-color: transparent;\n",
              "      border-bottom-color: var(--fill-color);\n",
              "    }\n",
              "  }\n",
              "</style>\n",
              "\n",
              "  <script>\n",
              "    async function quickchart(key) {\n",
              "      const quickchartButtonEl =\n",
              "        document.querySelector('#' + key + ' button');\n",
              "      quickchartButtonEl.disabled = true;  // To prevent multiple clicks.\n",
              "      quickchartButtonEl.classList.add('colab-df-spinner');\n",
              "      try {\n",
              "        const charts = await google.colab.kernel.invokeFunction(\n",
              "            'suggestCharts', [key], {});\n",
              "      } catch (error) {\n",
              "        console.error('Error during call to suggestCharts:', error);\n",
              "      }\n",
              "      quickchartButtonEl.classList.remove('colab-df-spinner');\n",
              "      quickchartButtonEl.classList.add('colab-df-quickchart-complete');\n",
              "    }\n",
              "    (() => {\n",
              "      let quickchartButtonEl =\n",
              "        document.querySelector('#df-b0121859-a245-43fe-a44e-eb01349b0ce1 button');\n",
              "      quickchartButtonEl.style.display =\n",
              "        google.colab.kernel.accessAllowed ? 'block' : 'none';\n",
              "    })();\n",
              "  </script>\n",
              "</div>\n",
              "\n",
              "  <div id=\"id_b1bd97ee-c422-43aa-a624-3d29dddb1041\">\n",
              "    <style>\n",
              "      .colab-df-generate {\n",
              "        background-color: #E8F0FE;\n",
              "        border: none;\n",
              "        border-radius: 50%;\n",
              "        cursor: pointer;\n",
              "        display: none;\n",
              "        fill: #1967D2;\n",
              "        height: 32px;\n",
              "        padding: 0 0 0 0;\n",
              "        width: 32px;\n",
              "      }\n",
              "\n",
              "      .colab-df-generate:hover {\n",
              "        background-color: #E2EBFA;\n",
              "        box-shadow: 0px 1px 2px rgba(60, 64, 67, 0.3), 0px 1px 3px 1px rgba(60, 64, 67, 0.15);\n",
              "        fill: #174EA6;\n",
              "      }\n",
              "\n",
              "      [theme=dark] .colab-df-generate {\n",
              "        background-color: #3B4455;\n",
              "        fill: #D2E3FC;\n",
              "      }\n",
              "\n",
              "      [theme=dark] .colab-df-generate:hover {\n",
              "        background-color: #434B5C;\n",
              "        box-shadow: 0px 1px 3px 1px rgba(0, 0, 0, 0.15);\n",
              "        filter: drop-shadow(0px 1px 2px rgba(0, 0, 0, 0.3));\n",
              "        fill: #FFFFFF;\n",
              "      }\n",
              "    </style>\n",
              "    <button class=\"colab-df-generate\" onclick=\"generateWithVariable('df')\"\n",
              "            title=\"Generate code using this dataframe.\"\n",
              "            style=\"display:none;\">\n",
              "\n",
              "  <svg xmlns=\"http://www.w3.org/2000/svg\" height=\"24px\"viewBox=\"0 0 24 24\"\n",
              "       width=\"24px\">\n",
              "    <path d=\"M7,19H8.4L18.45,9,17,7.55,7,17.6ZM5,21V16.75L18.45,3.32a2,2,0,0,1,2.83,0l1.4,1.43a1.91,1.91,0,0,1,.58,1.4,1.91,1.91,0,0,1-.58,1.4L9.25,21ZM18.45,9,17,7.55Zm-12,3A5.31,5.31,0,0,0,4.9,8.1,5.31,5.31,0,0,0,1,6.5,5.31,5.31,0,0,0,4.9,4.9,5.31,5.31,0,0,0,6.5,1,5.31,5.31,0,0,0,8.1,4.9,5.31,5.31,0,0,0,12,6.5,5.46,5.46,0,0,0,6.5,12Z\"/>\n",
              "  </svg>\n",
              "    </button>\n",
              "    <script>\n",
              "      (() => {\n",
              "      const buttonEl =\n",
              "        document.querySelector('#id_b1bd97ee-c422-43aa-a624-3d29dddb1041 button.colab-df-generate');\n",
              "      buttonEl.style.display =\n",
              "        google.colab.kernel.accessAllowed ? 'block' : 'none';\n",
              "\n",
              "      buttonEl.onclick = () => {\n",
              "        google.colab.notebook.generateWithVariable('df');\n",
              "      }\n",
              "      })();\n",
              "    </script>\n",
              "  </div>\n",
              "\n",
              "    </div>\n",
              "  </div>\n"
            ],
            "application/vnd.google.colaboratory.intrinsic+json": {
              "type": "dataframe",
              "variable_name": "df",
              "summary": "{\n  \"name\": \"df\",\n  \"rows\": 2,\n  \"fields\": [\n    {\n      \"column\": \"Title\",\n      \"properties\": {\n        \"dtype\": \"string\",\n        \"num_unique_values\": 2,\n        \"samples\": [\n          \"Climate change\",\n          \"History of the automobile\"\n        ],\n        \"semantic_type\": \"\",\n        \"description\": \"\"\n      }\n    },\n    {\n      \"column\": \"Content\",\n      \"properties\": {\n        \"dtype\": \"string\",\n        \"num_unique_values\": 2,\n        \"samples\": [\n          \"Present-day climate change includes both global warming\\u2014the ongoing increase in global average temperature\\u2014and its wider effects on Earth's climate. Climate change in a broader sense also includes previous long-term changes to Earth's climate. The current rise in global temperatures is driven by human activities, especially fossil fuel burning since the Industrial Revolution.[3][4] Fossil fuel use, deforestation, and some agricultural and industrial practices release greenhouse gases.[5] These gases absorb some of the heat that the Earth radiates after it warms from sunlight, warming the lower atmosphere. Carbon dioxide, the primary greenhouse gas driving global warming, has grown by about 50% and is at levels not seen for millions of years.[6]\",\n          \"Crude ideas and designs of automobiles can be traced back to ancient and medieval times.[1][2] In 1649, Hans Hautsch of Nuremberg built a clockwork-driven carriage.[1][3] In 1672, a small-scale steam-powered vehicle was created by Ferdinand Verbiest;[4] the first steam-powered automobile capable of human transportation was built by Nicolas-Joseph Cugnot in 1769.[5][6] Inventors began to branch out at the start of the 19th century, creating the de Rivaz engine, one of the first internal combustion engines,[7] and an early electric motor.[8] Samuel Brown later tested the first industrially applied internal combustion engine in 1826. Only two of these were made.[9]  Development was hindered in the mid-19th century by a backlash against large vehicles, yet progress continued on some internal combustion engines. The engine evolved as engineers created two- and four-cycle combustion engines and began using gasoline. The first modern car\\u2014a practical, marketable automobile for everyday use\\u2014and the first car in series production appeared in 1886, when Carl Benz developed a gasoline-powered automobile and made several identical copies.[10][11] In 1890, Gottlieb Daimler, inventor of the high-speed liquid petroleum-fueled engine, and Wilhelm Maybach formed Daimler Motoren Gesellschaft. In 1926, the company merged with Benz & Cie. (founded by Carl Benz in 1883) to form Daimler-Benz, known for its Mercedes-Benz automobile brand.\"\n        ],\n        \"semantic_type\": \"\",\n        \"description\": \"\"\n      }\n    },\n    {\n      \"column\": \"Embedding\",\n      \"properties\": {\n        \"dtype\": \"object\",\n        \"semantic_type\": \"\",\n        \"description\": \"\"\n      }\n    }\n  ]\n}"
            }
          },
          "metadata": {},
          "execution_count": 17
        }
      ]
    },
    {
      "cell_type": "markdown",
      "source": [
        "## Document search with Q&A\n",
        "\n",
        "Now that the embeddings are generated, let's create a Q&A system to search these documents. You will ask a question about hyperparameter tuning, create an embedding of the question, and compare it against the collection of embeddings in the dataframe.\n",
        "\n",
        "The embedding of the question will be a vector (list of float values), which will be compared against the vector of the documents using the dot product. This vector returned from the API is already normalized. The dot product represents the similarity in direction between two vectors.\n",
        "\n",
        "The values of the dot product can range between -1 and 1, inclusive. If the dot product between two vectors is 1, then the vectors are in the same direction. If the dot product value is 0, then these vectors are orthogonal, or unrelated, to each other. Lastly, if the dot product is -1, then the vectors point in the opposite direction and are not similar to each other.\n",
        "\n",
        "Note, with the new embeddings model (`embedding-001`), specify the task type as `QUERY` for user query and `DOCUMENT` when embedding a document text.\n",
        "\n",
        "Task Type | Description\n",
        "---       | ---\n",
        "RETRIEVAL_QUERY\t| Specifies the given text is a query in a search/retrieval setting.\n",
        "RETRIEVAL_DOCUMENT | Specifies the given text is a document in a search/retrieval setting."
      ],
      "metadata": {
        "id": "e9XYTTNJI74o"
      }
    },
    {
      "cell_type": "code",
      "source": [
        "query = \"Who created a small-scale steam-powered vehicle was created?\"\n",
        "model = 'models/embedding-001'\n",
        "\n",
        "request = GenAi.embed_content(model=model,\n",
        "                              content=query,\n",
        "                              task_type=\"retrieval_query\")\n",
        "print(request)"
      ],
      "metadata": {
        "colab": {
          "base_uri": "https://localhost:8080/",
          "height": 54
        },
        "id": "xY9vEvFmI8Z8",
        "outputId": "2ce8f438-980e-4cde-e70d-2308b2fba347"
      },
      "execution_count": 18,
      "outputs": [
        {
          "output_type": "stream",
          "name": "stdout",
          "text": [
            "{'embedding': [-0.026826635, -0.04280142, -0.056344602, -0.034657888, 0.045785226, 0.02341177, 0.057652794, -0.023186712, -0.026868613, 0.03340324, 0.04717992, -0.012326628, -0.006728747, 0.002680267, -0.022994498, 0.009573285, -0.0055102385, 0.0037289173, 0.0058312444, -0.04484913, 0.05276572, 0.022221332, -0.036666464, 0.017306665, -0.006452038, -0.008397161, 0.007468636, -0.03868062, -0.01009747, 0.011730041, -0.07851583, 0.058791123, -0.035904437, -0.011909979, -0.040258814, -0.009836895, 0.0028718885, -0.010888016, -0.0515669, 0.07759871, 0.036239196, 0.053189483, -0.056783278, -0.038672272, 0.042950418, -0.03977321, -0.045924194, 0.039767098, -0.009520786, -0.029797532, 0.04471093, 0.016361043, 0.03188916, -0.046700876, -0.0011000285, -0.07216628, 0.002928771, -0.040969793, -0.0248441, 0.008575118, 0.020667786, -0.01589764, -0.007454219, 0.058337387, 0.0054748715, -0.022651216, -0.037466418, 0.008430872, 0.04094743, -0.028460138, 0.056079704, -0.043632276, 0.056174573, -0.026964149, -0.061187312, -0.075478874, -0.009207487, 0.02860159, 0.016715635, -0.01341655, -0.07707729, -0.0010610475, -0.04323281, -0.02952109, -0.0035861502, 0.049529918, 0.042933658, -0.018198289, 0.0002684344, 0.048455838, -0.020278765, -0.0061215344, 0.018126767, -0.03370327, -0.020186713, 0.030616278, -0.004280938, -0.059324462, -0.022782624, -0.024724862, 0.008204823, -0.050369766, -0.052332144, 0.025602318, 0.045297656, 0.02049253, 0.054031357, 0.007572508, -0.009489003, 0.0025620381, -0.03379453, -0.056043856, -0.0018150511, 0.010496361, 0.040512946, -0.034892704, -0.04266314, 0.037604246, -0.0040782043, 0.015726715, 0.015217152, 0.0027917933, 0.064127974, -0.011794223, 0.038383882, 0.017647354, 0.013088481, 0.015644157, -0.002033836, 0.058124643, 0.017244745, -0.054871712, 0.03919454, -0.029644627, 0.02085275, 0.03301981, 0.072336785, 0.046868753, 0.079570405, -0.021321436, -0.00041099836, 0.005906771, 0.045565885, 0.07445293, -0.0094498545, 0.06640713, -0.029750472, -0.03837541, 0.0089967055, -0.0508467, 0.009361018, 0.0051948684, -0.04032943, 0.03263849, 0.07974235, 0.027774878, -0.01423476, 0.020477982, -0.01628947, -0.0062899543, 0.046969153, 0.024353405, 0.020902362, 0.03126571, -0.0015857449, -0.084666826, -0.007793961, -0.014518822, -0.033911984, -0.028924305, 0.018254336, -0.01079047, -0.0048945593, -0.029369812, -0.014306176, -0.09918901, 0.016051129, -0.00022688472, -0.01929681, 0.02432611, -0.019978939, -0.08378034, -0.012085634, -0.025354533, 0.02860796, -0.03645924, 0.06983702, 0.029817512, -0.04482147, -0.0066859927, 0.03708186, 0.025304858, -0.022360174, 0.0023641544, -0.064734995, 0.049411647, 0.02070596, -0.0006737894, -0.002702567, -0.03543565, 0.003931128, 0.05665272, 0.019852152, -0.01360827, 0.003171489, -0.019406935, 0.045312844, -0.023765502, 0.033479467, 0.06693948, -0.039957445, -0.008312605, -0.017690687, 0.01098368, 0.037490204, 0.049046636, 0.041065656, 0.014884036, 0.04095385, -0.023063686, 0.00042775535, -0.019535352, -0.014891389, 0.0672787, -0.019985136, 0.0640588, 0.022320623, 0.0152249755, -0.019096954, -0.027496602, 0.019210443, 0.044187758, 0.010138734, -0.031821545, -0.013208251, 0.041050408, 0.009213186, -0.008376687, 0.027522229, -0.027193058, -0.043550946, -0.007767147, 0.061760683, -0.0110649625, 0.00078427093, -0.0074588773, 0.0018475427, 0.011842734, -0.005162409, 0.035585757, -0.0054520727, -0.07832876, 0.0695903, 0.02666062, -0.06785097, -0.0043981397, -0.047576543, 0.042910565, -0.03185942, 0.014214922, 0.010670949, -0.054192133, 0.013334692, 0.028106183, -0.03109457, -0.030106358, -0.04170135, 0.0009913354, 0.069233365, 0.03346158, -0.0016813457, -0.040947374, 0.047302216, 0.004706541, 0.009566397, 0.0143123595, 0.016484424, 0.011776264, 0.015805747, -0.032550715, 0.01289409, 0.0055182553, 0.030814959, -0.04218299, -0.00398264, -0.055502236, -0.004975633, 0.039895028, 0.03332569, 0.028825833, -0.049636375, -0.0126071805, -0.025222247, -0.021647783, -0.10006722, 0.01697011, -0.04926136, 0.015492168, 0.016694272, 0.0033826153, -0.04970573, -0.042305924, -0.027276088, -0.12575987, -0.022048132, 0.030924529, -0.053122465, -0.034924652, 0.029496336, 0.0011034341, 0.03368898, -0.034823105, -0.014068246, -0.01595365, 0.03590096, 0.08414625, -0.05432891, 0.028725043, -0.02032529, 0.053167336, -0.004949293, 0.014301681, -0.028458979, -0.04163857, -0.017465834, 0.029418023, 0.018068496, 0.044323735, 0.003156292, -0.007938156, -0.08912064, -0.03355137, -0.03552415, 0.00012816566, 0.0357475, 0.010276781, -0.07403479, 0.053918995, 0.001459517, 0.0056755897, 0.038216062, -0.0019915963, -0.04053465, -0.024987489, -0.021120645, -0.064047754, -0.027213061, -0.014182762, 0.05905414, 0.016274028, -0.0002878394, 0.043327622, -0.04260152, -0.018846132, -0.0049732877, -0.084053755, 0.056838047, -0.010782003, 0.018779263, -0.019166086, -0.08402397, 0.03566011, -0.011815417, 0.010954664, -0.003010066, -0.00084042636, 0.046443816, -0.013344049, 0.009467008, 0.03429963, 0.015457592, -0.010552331, 0.0093895, -0.021980865, 0.015583426, -0.06801061, -0.03548922, 0.021827886, -0.021718413, 0.06314885, -0.011133002, -0.0082729785, 0.047122486, 0.045040347, 0.009969691, -0.03353657, -0.036530264, 0.021912126, -0.00027765697, 0.04618871, 0.03245276, -0.008954073, 0.035913307, 0.031773258, -0.03247555, 0.02680897, 0.014730261, -0.0046938704, -0.01388213, 0.016351847, -0.024793977, -0.02903407, -0.0454209, -0.075835325, 0.03337312, -0.024357462, -0.04274934, -0.010205928, -0.024737218, -0.016478237, 0.014196529, 0.034674335, 0.010139174, -0.044895153, -0.038314577, 0.0055850307, 0.0073820455, -0.0032870169, 0.00029900993, 0.045580495, 0.015048009, -0.005220259, -0.01527397, 0.037541762, -0.012477621, -0.06777121, -0.024264386, 0.021245793, 0.01710135, 0.009674551, -0.009324304, -0.042953398, 0.022833668, 0.008708368, -0.03215271, -0.06508004, -0.0091455495, -0.0024251975, -0.031049885, 0.02596013, -0.0018408599, -0.03511459, 0.025407903, -0.02707904, -0.07670683, 0.012637281, -0.013305908, 0.0059085996, -0.0036372764, -0.058700327, 0.034083813, -0.05539092, 0.0033316372, -0.052425507, -0.0369664, -0.1088346, -0.0075337696, 0.043728646, -0.023536693, -0.007642354, -0.007653944, -0.032510605, -0.007663281, -0.077580936, 0.039040573, -0.044251397, 0.0049270145, -0.08561202, 0.051970202, 0.039533615, 0.023424437, 0.024080342, 0.046550564, 0.061632995, -0.048880327, -0.010219203, -0.032381535, 0.054049093, -0.03221421, -0.0509289, -0.021233045, 0.017102785, 0.014686562, 0.047920313, 0.02360326, 0.039495118, 0.02182764, -0.037301145, 0.011545204, 0.0017597366, -0.014075817, 0.05232932, -0.017726943, -0.013847073, -0.008630306, 0.019976, -0.020868432, 0.054381844, -0.0056001656, -0.03556822, 0.039272957, -0.034514587, 0.014574965, -0.015157797, 0.057863932, -0.026730193, 0.009360494, 0.043346796, -0.0065026674, -0.0115988655, 0.055036806, 0.037911247, -0.039180752, 0.0014810214, 0.011903386, -0.029357888, -0.019548602, 0.02468604, -0.013164495, -0.02980951, 0.03635313, -0.013405847, -0.08940472, 0.0020601845, -0.03505907, -0.057062563, 0.06345126, 0.027910728, -0.09692471, -0.011715544, 0.01652961, 0.024714516, 0.01487146, -0.04186267, 0.021780482, -0.04917697, -0.027704125, -0.00023528181, 0.03549311, 0.00932634, 0.007506609, -0.0078063523, 0.049404006, -0.0116749955, 0.021400316, -0.02929418, 0.028299378, -0.06803364, 0.04038704, -0.005937607, -0.008802281, -0.0069927815, 0.051707294, -0.073829584, 0.10431277, 0.04442341, -0.060308866, 0.04513107, -0.07268365, 0.0035302956, -0.0142055685, 0.0190693, 0.034178223, -0.015054792, 0.06497403, 0.072761156, -0.082706034, -0.034668718, 0.033922818, 0.007196264, 0.035477705, -0.0055289515, -0.012018691, 0.003624183, 0.041571118, -0.042255692, -0.04802257, -0.011859983, -0.010050038, 0.021415526, 0.039916612, -0.018909032, 0.016107613, 0.028138261, -0.008327783, -0.008715553, 0.037968002, 0.019088935, 0.06416573, 0.017765148, -0.009906808, 0.020177484, -0.019161286, 0.045172513, 0.018871598, 0.03544705, 0.033393018, 0.012550598, 0.006581361, -0.04643034, -0.0062927874, 0.013629945, 0.07809313, -0.047836855, -0.037212096, 0.045927174, -0.026413329, -0.025363732, -0.030418253, 0.023620177, -0.0317067, -0.012993921, -0.00588975, -0.021344414, -0.026532084, -0.026745735, 0.020062404, -0.031093372, 0.0099381, -0.030516101, 0.05015172, -0.023867153, 0.021432621, 0.03847521, 0.070203304, -0.02266697, 0.0046000886, 0.0071872105, 0.033416197, -0.007452337, 0.03250364, 0.0451364, 0.019684521, 0.0021570516, -0.0487957, -0.010688125, -0.024890473, -0.015449926, 0.013481706, -0.05127525, -0.0423174, -0.020157484, 0.06440816, -0.002907932, -0.022930212, 0.03374229, 0.016315706, -0.09864411, -0.02961976, 0.034818586, -0.040034156, -0.02208529, 0.032216974, -0.023371298, 0.021405097, 0.0006026796, -0.010756855, -0.006067729, -0.014525575, 0.0019040769, -0.03405292, 0.025594046, -0.047486372, 0.016421137, -0.0002693892, 0.018739115, -0.05721714, -0.07918804, -0.015930803, 0.026156332, -0.049074702, 0.054277413, 0.04564688, -0.028743656, -0.004706776, 0.03327956, -0.007550312, 0.00036529946, 0.0012571553, 0.06860363, 0.0048364117, -0.02801088, -0.026355807, 0.032393366, 0.0013158313, 0.024811149, -0.00074182905, 0.05830347, -0.021757994, -0.01890611, 0.04623663, -0.01198543, -0.060267676, 0.035263423, 0.039878823, 0.025775937, 0.0066222805, -0.03736002, 0.012205698, 0.07033354, -0.031459324, -0.013263263, 0.058385137, -0.05292983, 0.03692296, 0.018314436, -0.014377689, 0.01284621, 0.022510666, -0.013300371, 0.002409735, -0.027838279, -0.05153781, -0.011583601, 0.019777112, -0.03527174, 0.023720672, 0.0011060685, -0.01532839, 0.08820505, 0.04368425, 0.070167884, 0.0456137, -0.06637165, -0.049747292, 0.054189622, -0.04414902, 0.01152573, -0.014323801, -0.008519451, 0.023777902, 0.0019094143, -0.049250618, 0.052091092, 0.018946275, 0.015843244, 0.011364225, 0.017113913, 0.009263265, -0.08927242, -0.033940576, -0.002359953, -0.02412346, 0.022765763, 0.040350236, -0.033312134, -0.0086766435, -0.0026112888, 0.01439039, 0.011455847, -0.047047578, -0.01489177, 0.0010892487, 0.048815295, 0.052945655, -0.009408692, -0.011853801, 0.0074549224, 0.05137832, 0.023834115, -0.050998434, 0.057660516, 0.017270256, 0.016480476, 0.033699427, 0.002823504, -0.018263524, 0.0025824783]}\n"
          ]
        }
      ]
    },
    {
      "cell_type": "code",
      "source": [
        "# Use the find_best_passage function to calculate the dot products, and then sort the dataframe from the largest to smallest dot product value to retrieve the relevant passage out of the database.\n",
        "def find_best_passage(query, dataframe):\n",
        "\n",
        "  query_embedding = GenAi.embed_content(model=model,\n",
        "                                        content=query,\n",
        "                                        task_type=\"retrieval_query\")\n",
        "  dot_products = np.dot(np.stack(dataframe['Embedding']), query_embedding[\"embedding\"])\n",
        "  idx = np.argmax(dot_products)\n",
        "  return dataframe.iloc[idx]['Content'] # Return text from index with max value"
      ],
      "metadata": {
        "id": "NGgRa6o4JQhn"
      },
      "execution_count": 20,
      "outputs": []
    },
    {
      "cell_type": "code",
      "source": [
        "passage = find_best_passage(query, df)\n",
        "passage"
      ],
      "metadata": {
        "colab": {
          "base_uri": "https://localhost:8080/",
          "height": 139
        },
        "id": "w7I9dTGiJpGs",
        "outputId": "5654c5e5-c18d-4a0e-8c2f-6c93b8792702"
      },
      "execution_count": 21,
      "outputs": [
        {
          "output_type": "execute_result",
          "data": {
            "text/plain": [
              "'Crude ideas and designs of automobiles can be traced back to ancient and medieval times.[1][2] In 1649, Hans Hautsch of Nuremberg built a clockwork-driven carriage.[1][3] In 1672, a small-scale steam-powered vehicle was created by Ferdinand Verbiest;[4] the first steam-powered automobile capable of human transportation was built by Nicolas-Joseph Cugnot in 1769.[5][6] Inventors began to branch out at the start of the 19th century, creating the de Rivaz engine, one of the first internal combustion engines,[7] and an early electric motor.[8] Samuel Brown later tested the first industrially applied internal combustion engine in 1826. Only two of these were made.[9]  Development was hindered in the mid-19th century by a backlash against large vehicles, yet progress continued on some internal combustion engines. The engine evolved as engineers created two- and four-cycle combustion engines and began using gasoline. The first modern car—a practical, marketable automobile for everyday use—and the first car in series production appeared in 1886, when Carl Benz developed a gasoline-powered automobile and made several identical copies.[10][11] In 1890, Gottlieb Daimler, inventor of the high-speed liquid petroleum-fueled engine, and Wilhelm Maybach formed Daimler Motoren Gesellschaft. In 1926, the company merged with Benz & Cie. (founded by Carl Benz in 1883) to form Daimler-Benz, known for its Mercedes-Benz automobile brand.'"
            ],
            "application/vnd.google.colaboratory.intrinsic+json": {
              "type": "string"
            }
          },
          "metadata": {},
          "execution_count": 21
        }
      ]
    },
    {
      "cell_type": "markdown",
      "source": [
        "# Question and Answering Application\n",
        "Let's try to use the text generation API to create a Q & A system. Input your own custom data below to create a simple question and answering example. You will still use the dot product as a metric of similarity."
      ],
      "metadata": {
        "id": "g3GY7ZOizUyY"
      }
    },
    {
      "cell_type": "code",
      "source": [
        "\n",
        "def make_prompt(query, relevant_passage):\n",
        "  escaped = relevant_passage.replace(\"'\", \"\").replace('\"', \"\").replace(\"\\n\", \" \")\n",
        "  prompt = textwrap.dedent(\"\"\"You are a helpful and informative bot that answers questions using text from the reference passage included below. \\\n",
        "  Be sure to respond in a complete sentence, being comprehensive, including all relevant background information. \\\n",
        "  However, you are talking to a non-technical audience, so be sure to break down complicated concepts and \\\n",
        "  strike a friendly and converstional tone. \\\n",
        "  If the passage is irrelevant to the answer, you may ignore it.\n",
        "  QUESTION: '{query}'\n",
        "  PASSAGE: '{relevant_passage}'\n",
        "\n",
        "    ANSWER:\n",
        "  \"\"\").format(query=query, relevant_passage=escaped)\n",
        "\n",
        "  return prompt"
      ],
      "metadata": {
        "id": "W4I8OL-uzUfh"
      },
      "execution_count": 22,
      "outputs": []
    },
    {
      "cell_type": "code",
      "source": [
        "\n",
        "prompt = make_prompt(query, passage)\n",
        "print(prompt)"
      ],
      "metadata": {
        "colab": {
          "base_uri": "https://localhost:8080/"
        },
        "id": "sT4xFLkkzguM",
        "outputId": "fee2a4b1-bf20-46b8-c076-e6960bfe4438"
      },
      "execution_count": 23,
      "outputs": [
        {
          "output_type": "stream",
          "name": "stdout",
          "text": [
            "You are a helpful and informative bot that answers questions using text from the reference passage included below.   Be sure to respond in a complete sentence, being comprehensive, including all relevant background information.   However, you are talking to a non-technical audience, so be sure to break down complicated concepts and   strike a friendly and converstional tone.   If the passage is irrelevant to the answer, you may ignore it.\n",
            "  QUESTION: 'Who created a small-scale steam-powered vehicle was created?'\n",
            "  PASSAGE: 'Crude ideas and designs of automobiles can be traced back to ancient and medieval times.[1][2] In 1649, Hans Hautsch of Nuremberg built a clockwork-driven carriage.[1][3] In 1672, a small-scale steam-powered vehicle was created by Ferdinand Verbiest;[4] the first steam-powered automobile capable of human transportation was built by Nicolas-Joseph Cugnot in 1769.[5][6] Inventors began to branch out at the start of the 19th century, creating the de Rivaz engine, one of the first internal combustion engines,[7] and an early electric motor.[8] Samuel Brown later tested the first industrially applied internal combustion engine in 1826. Only two of these were made.[9]  Development was hindered in the mid-19th century by a backlash against large vehicles, yet progress continued on some internal combustion engines. The engine evolved as engineers created two- and four-cycle combustion engines and began using gasoline. The first modern car—a practical, marketable automobile for everyday use—and the first car in series production appeared in 1886, when Carl Benz developed a gasoline-powered automobile and made several identical copies.[10][11] In 1890, Gottlieb Daimler, inventor of the high-speed liquid petroleum-fueled engine, and Wilhelm Maybach formed Daimler Motoren Gesellschaft. In 1926, the company merged with Benz & Cie. (founded by Carl Benz in 1883) to form Daimler-Benz, known for its Mercedes-Benz automobile brand.'\n",
            "\n",
            "    ANSWER:\n",
            "\n"
          ]
        }
      ]
    },
    {
      "cell_type": "code",
      "source": [],
      "metadata": {
        "id": "l8t3eG1AzitV"
      },
      "execution_count": null,
      "outputs": []
    },
    {
      "cell_type": "code",
      "source": [
        "for m in GenAi.list_models():\n",
        "  if 'generateContent' in m.supported_generation_methods:\n",
        "    print(m.name)"
      ],
      "metadata": {
        "colab": {
          "base_uri": "https://localhost:8080/",
          "height": 486
        },
        "id": "JMvmxg2NzrXT",
        "outputId": "9bf8b680-cd6b-48f6-e41f-66f782f8f3dd"
      },
      "execution_count": 25,
      "outputs": [
        {
          "output_type": "stream",
          "name": "stdout",
          "text": [
            "models/gemini-1.0-pro-latest\n",
            "models/gemini-1.0-pro\n",
            "models/gemini-pro\n",
            "models/gemini-1.0-pro-001\n",
            "models/gemini-1.0-pro-vision-latest\n",
            "models/gemini-pro-vision\n",
            "models/gemini-1.5-pro-latest\n",
            "models/gemini-1.5-pro-001\n",
            "models/gemini-1.5-pro-002\n",
            "models/gemini-1.5-pro\n",
            "models/gemini-1.5-pro-exp-0801\n",
            "models/gemini-1.5-pro-exp-0827\n",
            "models/gemini-1.5-flash-latest\n",
            "models/gemini-1.5-flash-001\n",
            "models/gemini-1.5-flash-001-tuning\n",
            "models/gemini-1.5-flash\n",
            "models/gemini-1.5-flash-exp-0827\n",
            "models/gemini-1.5-flash-002\n",
            "models/gemini-1.5-flash-8b\n",
            "models/gemini-1.5-flash-8b-001\n",
            "models/gemini-1.5-flash-8b-latest\n",
            "models/gemini-1.5-flash-8b-exp-0827\n",
            "models/gemini-1.5-flash-8b-exp-0924\n",
            "models/learnlm-1.5-pro-experimental\n",
            "models/gemini-exp-1114\n",
            "models/gemini-exp-1121\n",
            "models/gemini-exp-1206\n"
          ]
        }
      ]
    },
    {
      "cell_type": "code",
      "source": [
        "model = GenAi.GenerativeModel('models/gemini-1.0-pro')\n",
        "answer = model.generate_content(prompt)"
      ],
      "metadata": {
        "id": "2ZpAyowUzugK"
      },
      "execution_count": 28,
      "outputs": []
    },
    {
      "cell_type": "code",
      "source": [
        "Markdown(answer.text)"
      ],
      "metadata": {
        "colab": {
          "base_uri": "https://localhost:8080/",
          "height": 46
        },
        "id": "oQyIoidjz-_w",
        "outputId": "cfa3334d-b267-40b8-acdc-f4503048aa14"
      },
      "execution_count": 29,
      "outputs": [
        {
          "output_type": "execute_result",
          "data": {
            "text/plain": [
              "<IPython.core.display.Markdown object>"
            ],
            "text/markdown": "Ferdinand Verbiest created a small-scale steam-powered vehicle in 1672."
          },
          "metadata": {},
          "execution_count": 29
        }
      ]
    },
    {
      "cell_type": "code",
      "source": [],
      "metadata": {
        "id": "_QdeH-030B6a"
      },
      "execution_count": null,
      "outputs": []
    }
  ]
}